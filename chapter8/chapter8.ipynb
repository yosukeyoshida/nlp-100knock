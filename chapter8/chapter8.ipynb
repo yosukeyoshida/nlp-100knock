{
 "cells": [
  {
   "cell_type": "markdown",
   "metadata": {
    "collapsed": true
   },
   "source": [
    "# 第8章: 機械学習\n",
    "\n",
    "本章では，Bo Pang氏とLillian Lee氏が公開しているMovie Review Dataのsentence polarity dataset v1.0を用い，文を肯定的（ポジティブ）もしくは否定的（ネガティブ）に分類するタスク（極性分析）に取り組む．"
   ]
  },
  {
   "cell_type": "markdown",
   "metadata": {},
   "source": [
    "## 70. データの入手・整形\n",
    "文に関する極性分析の正解データを用い，以下の要領で正解データ（sentiment.txt）を作成せよ．\n",
    "\n",
    "1. rt-polarity.posの各行の先頭に\"+1 \"という文字列を追加する（極性ラベル\"+1\"とスペースに続けて肯定的な文の内容が続く）\n",
    "2. rt-polarity.negの各行の先頭に\"-1 \"という文字列を追加する（極性ラベル\"-1\"とスペースに続けて否定的な文の内容が続く）\n",
    "3. 上述1と2の内容を結合（concatenate）し，行をランダムに並び替える\n",
    "\n",
    "sentiment.txtを作成したら，正例（肯定的な文）の数と負例（否定的な文）の数を確認せよ．"
   ]
  },
  {
   "cell_type": "code",
   "execution_count": 3,
   "metadata": {
    "collapsed": false
   },
   "outputs": [],
   "source": [
    "import random\n",
    "\n",
    "pos_list = []\n",
    "neg_list = []\n",
    "data = []\n",
    "with open('rt-polaritydata/rt-polarity.pos', errors='ignore') as pos, open('rt-polaritydata/rt-polarity.neg', errors='ignore') as neg:\n",
    "    data.extend(['+1\\t{}'.format(line.rstrip()) for line in pos])\n",
    "    data.extend(['-1\\t{}'.format(line.rstrip()) for line in neg])\n",
    "\n",
    "random.shuffle(data)\n",
    "\n",
    "with open('sentiment.txt', 'w') as file:\n",
    "    for line in data:\n",
    "        file.write(line + '\\n')        "
   ]
  },
  {
   "cell_type": "markdown",
   "metadata": {},
   "source": [
    "## 71. ストップワード\n",
    "英語のストップワードのリスト（ストップリスト）を適当に作成せよ．さらに，引数に与えられた単語（文字列）がストップリストに含まれている場合は真，それ以外は偽を返す関数を実装せよ．さらに，その関数に対するテストを記述せよ．"
   ]
  },
  {
   "cell_type": "code",
   "execution_count": 17,
   "metadata": {
    "collapsed": false
   },
   "outputs": [],
   "source": [
    "# %load util.py\n",
    "from nltk import stem\n",
    "from sklearn.learning_curve import learning_curve\n",
    "import matplotlib.pyplot as plt\n",
    "import numpy as np\n",
    "from sklearn.linear_model import LogisticRegression\n",
    "from sklearn.metrics import precision_recall_curve\n",
    "import seaborn as sns\n",
    "\n",
    "\n",
    "\n",
    "class Util:\n",
    "    stop_words = [line.rstrip() for line in open('stopwords.txt').readlines()]\n",
    "\n",
    "    @staticmethod\n",
    "    def is_stop_word(word):\n",
    "        return word.lower() in Util.stop_words\n",
    "\n",
    "    @staticmethod\n",
    "    def normalize_word(word):\n",
    "        word = word.lower()\n",
    "        stemmer = stem.PorterStemmer()\n",
    "        return stemmer.stem(word)\n",
    "\n",
    "    @staticmethod\n",
    "    def is_invalid_word(word):\n",
    "        return len(word) < 2 or Util.is_stop_word(word)\n",
    "\n",
    "    @staticmethod\n",
    "    def plot_learning_curve(X, y):\n",
    "        plt.rc('figure', figsize=(12, 8))\n",
    "\n",
    "        estimator = LogisticRegression(penalty='l2', C=0.01)\n",
    "        training_sizes, train_scores, test_scores = learning_curve(estimator=estimator, X=X, y=y, \\\n",
    "                                                                   train_sizes=[0.2, 0.4, 0.6, 0.8, 1.0], cv=10)\n",
    "\n",
    "        train_mean = np.mean(train_scores, axis=1)\n",
    "        train_std = np.std(train_scores, axis=1)\n",
    "        test_mean = np.mean(test_scores, axis=1)\n",
    "        test_std = np.std(test_scores, axis=1)\n",
    "\n",
    "        plt.plot(training_sizes, train_mean, color='blue', marker='o', markersize=5, label='training accuracy')\n",
    "        plt.fill_between(training_sizes, train_mean + train_std, train_mean - train_std, alpha=0.15, color='blue')\n",
    "\n",
    "        plt.plot(training_sizes, test_mean, color='green', linestyle='--', marker='s', markersize=5,\n",
    "                 label='validation accuracy')\n",
    "        plt.fill_between(training_sizes, test_mean + test_std, test_mean - test_std, alpha=0.15, color='green')\n",
    "\n",
    "        plt.grid()\n",
    "        plt.xlabel('Number of training samples')\n",
    "        plt.ylabel('Accuracy')\n",
    "        plt.legend(loc='best')\n",
    "        plt.ylim(0.5, 1.0)\n",
    "\n",
    "    @staticmethod\n",
    "    def plot_validation_curve(X, y):\n",
    "        param_range = [0.001, 0.01, 1.0, 10.0]\n",
    "        estimator = LogisticRegression(penalty='l2')\n",
    "        X_train, X_test, y_train, y_test = train_test_split(X, y, test_size=0.20)\n",
    "        train_scores, test_scores = validation_curve(estimator=estimator, X=X_train, y=y_train, param_name='C',\n",
    "                                                     param_range=param_range, cv=10)\n",
    "        train_mean = np.mean(train_scores, axis=1)\n",
    "        train_std = np.std(train_scores, axis=1)\n",
    "        test_mean = np.mean(test_scores, axis=1)\n",
    "        test_std = np.std(test_scores, axis=1)\n",
    "\n",
    "        plt.plot(param_range, train_mean, color='blue', marker='o', markersize=5, label='training accuracy')\n",
    "        plt.fill_between(param_range, train_mean + train_std, train_mean - train_std, alpha=0.15, color='blue')\n",
    "\n",
    "        plt.plot(param_range, test_mean, color='blue', marker='o', markersize=5, label='validation accuracy')\n",
    "        plt.fill_between(param_range, test_mean + test_std, test_mean - test_std, alpha=0.15, color='green')\n",
    "\n",
    "        plt.grid()\n",
    "        plt.xscale('log')\n",
    "        plt.legend(loc='best')\n",
    "        plt.xticks(param_range)\n",
    "        plt.xlabel('Parameter C')\n",
    "        plt.ylabel('Accuracy')\n",
    "\n",
    "    @staticmethod\n",
    "    def plot_precision_recall_curve(X, y):\n",
    "        plt.rc('figure', figsize=(12, 8))\n",
    "        results, probas = Predictor.predict_proba_by_dense(X)\n",
    "        predictions = probas[:, 0]\n",
    "        yi = [1 if u == '+1' else -1 for u in y]\n",
    "\n",
    "        precision, recall, thresholds = precision_recall_curve(yi, predictions)\n",
    "        thresholds = np.append(thresholds, 1)\n",
    "\n",
    "        plt.plot(thresholds, precision, color=sns.color_palette()[0])\n",
    "        plt.plot(thresholds, recall, color=sns.color_palette()[1])\n",
    "\n",
    "        plt.legend(('precision', 'recall'), loc='best')\n",
    "        plt.xlabel('threshold')\n",
    "        plt.ylabel('%')\n",
    "        plt.ylim(0.0, 1.01)\n",
    "\n",
    "\n"
   ]
  },
  {
   "cell_type": "code",
   "execution_count": 5,
   "metadata": {
    "collapsed": false
   },
   "outputs": [],
   "source": [
    "assert Util.is_stop_word('because')\n",
    "assert not Util.is_stop_word('quality')"
   ]
  },
  {
   "cell_type": "markdown",
   "metadata": {},
   "source": [
    "# 72. 素性抽出\n",
    "極性分析に有用そうな素性を各自で設計し，学習データから素性を抽出せよ．素性としては，レビューからストップワードを除去し，各単語をステミング処理したものが最低限のベースラインとなるであろう．"
   ]
  },
  {
   "cell_type": "code",
   "execution_count": 6,
   "metadata": {
    "collapsed": false
   },
   "outputs": [],
   "source": [
    "# %load preprocessor.py\n",
    "from gensim import corpora, matutils\n",
    "\n",
    "class Preprocessor():\n",
    "    data_file = 'sentiment.txt'\n",
    "    dic_file = 'dic.txt'\n",
    "\n",
    "    @classmethod\n",
    "    def create_dictionary(cls):\n",
    "        docs, _ = cls.load_data()\n",
    "        all_words = [[Util.normalize_word(word) for word in doc.split(' ') if not Util.is_invalid_word(word)] for doc in docs]\n",
    "\n",
    "        dictionary = corpora.Dictionary(all_words)\n",
    "        dictionary.filter_extremes(no_below=10)\n",
    "        dictionary.save_as_text(cls.dic_file)\n",
    "        return dictionary\n",
    "\n",
    "    @classmethod\n",
    "    def load_dictionary(cls):\n",
    "        return corpora.Dictionary.load_from_text(cls.dic_file)\n",
    "\n",
    "    @classmethod\n",
    "    def load_data(cls):\n",
    "        with open(cls.data_file) as f:\n",
    "            samples = [line.rstrip().split('\\t') for line in f]\n",
    "            label = [sample[0] for sample in samples]\n",
    "            docs = [sample[1] for sample in samples]\n",
    "        return [docs, label]\n",
    "\n",
    "    @staticmethod\n",
    "    def split_normalized_words(docs):\n",
    "        return [[Util.normalize_word(word) for word in doc.split(' ')] for doc in docs]\n",
    "\n",
    "    @classmethod\n",
    "    def create_dense(cls, docs):\n",
    "        dictionary = cls.load_dictionary()\n",
    "        normalized_docs = cls.split_normalized_words(docs)\n",
    "        corpus = [dictionary.doc2bow(doc) for doc in normalized_docs]\n",
    "        dense = [list(matutils.corpus2dense([line], num_terms=len(dictionary)).T[0]) for line in corpus]\n",
    "        return dense\n",
    "\n",
    "    @classmethod\n",
    "    def run(cls):\n",
    "        cls.create_dictionary()\n",
    "        docs, y = Preprocessor.load_data()\n",
    "        X = Preprocessor.create_dense(docs)\n",
    "        return [X, y]\n",
    "\n"
   ]
  },
  {
   "cell_type": "markdown",
   "metadata": {},
   "source": [
    "# 73. 学習\n",
    "72で抽出した素性を用いて，ロジスティック回帰モデルを学習せよ．"
   ]
  },
  {
   "cell_type": "code",
   "execution_count": 7,
   "metadata": {
    "collapsed": true
   },
   "outputs": [],
   "source": [
    "# %load trainer.py\n",
    "from sklearn.linear_model import LogisticRegression\n",
    "from sklearn.externals import joblib\n",
    "\n",
    "class Trainer():\n",
    "    @classmethod\n",
    "    def run(cls, X, y):\n",
    "        estimator = LogisticRegression(penalty='l2', C=0.01)\n",
    "        estimator.fit(X, y)\n",
    "        joblib.dump(estimator, './model/lr.pkl')\n",
    "\n",
    "    @classmethod\n",
    "    def lowest_highest_features(cls):\n",
    "        estimator = joblib.load('./model/lr.pkl')\n",
    "        lowest = np.argsort(estimator.coef_[0])[:10]\n",
    "        highest = np.argsort(estimator.coef_[0])[::-1][:10]\n",
    "        dictionary = Preprocessor.load_dictionary()\n",
    "        highest_feature_names = [list(dictionary.token2id.keys())[list(dictionary.token2id.values()).index(idx)] for idx in list(highest)]\n",
    "        lowest_feature_names = [list(dictionary.token2id.keys())[list(dictionary.token2id.values()).index(idx)] for idx in list(lowest)]\n",
    "        return [highest_feature_names, lowest_feature_names]\n"
   ]
  },
  {
   "cell_type": "code",
   "execution_count": 8,
   "metadata": {
    "collapsed": false
   },
   "outputs": [],
   "source": [
    "# 学習\n",
    "X, y = Preprocessor.run()\n",
    "Trainer.run(X, y)"
   ]
  },
  {
   "cell_type": "markdown",
   "metadata": {
    "collapsed": true
   },
   "source": [
    "# 74. 予測\n",
    "73で学習したロジスティック回帰モデルを用い，与えられた文の極性ラベル（正例なら\"+1\"，負例なら\"-1\"）と，その予測確率を計算するプログラムを実装せよ．"
   ]
  },
  {
   "cell_type": "code",
   "execution_count": 9,
   "metadata": {
    "collapsed": true
   },
   "outputs": [],
   "source": [
    "# %load predictor.py\n",
    "from sklearn.externals import joblib\n",
    "from sklearn.cross_validation import train_test_split\n",
    "import numpy as np\n",
    "\n",
    "class Predictor:\n",
    "    estimator = joblib.load('./model/lr.pkl')\n",
    "\n",
    "    @classmethod\n",
    "    def predict(cls, docs):\n",
    "        dense = Preprocessor.create_dense(docs)\n",
    "        results = cls.estimator.predict(dense)\n",
    "        return results\n",
    "\n",
    "    @classmethod\n",
    "    def predict_proba(cls, docs):\n",
    "        dense = Preprocessor.create_dense(docs)\n",
    "        results = cls.estimator.predict(dense)\n",
    "        probas = cls.estimator.predict_proba(dense)\n",
    "        return [results, probas]\n",
    "\n",
    "    @classmethod\n",
    "    def predict_proba_by_dense(cls, dense):\n",
    "        results = cls.estimator.predict(dense)\n",
    "        probas = cls.estimator.predict_proba(dense)\n",
    "        return [results, probas]\n",
    "\n",
    "    @classmethod\n",
    "    def f1_score(cls, predicts, corrects):\n",
    "        results = {'tp': 0, 'tn': 0, 'fp': 0, 'fn': 0}\n",
    "\n",
    "        for predict, correct in zip(predicts, corrects):\n",
    "            if predict == '+1' and correct == '+1':\n",
    "                results['tp'] += 1\n",
    "            elif predict == '-1' and correct == '-1':\n",
    "                results['tn'] += 1\n",
    "            elif predict == '+1' and correct == '-1':\n",
    "                results['fp'] += 1\n",
    "            elif predict == '-1' and correct == '+1':\n",
    "                results['fn'] += 1\n",
    "\n",
    "        acc = (results['tp'] + results['tn']) / len(predicts)\n",
    "        pre = results['tp'] / (results['tp'] + results['fp'])\n",
    "        rec = results['tp'] / (results['tp'] + results['fn'])\n",
    "        f1 = 2 * (pre * rec) / (pre + rec)\n",
    "        return [acc, pre, rec, f1]\n",
    "\n",
    "    @classmethod\n",
    "    def cross_validation(cls, X, y):\n",
    "        hist = {'acc': [], 'pre': [], 'rec': [], 'f1': []}\n",
    "        for i in range(5):\n",
    "            X_train, X_test, y_train, y_test = train_test_split(X, y, test_size=0.2)\n",
    "            Trainer.run(X_train, y_train)\n",
    "            predicts = cls.estimator.predict(X_test)\n",
    "            acc, pre, rec, f1 = cls.f1_score(predicts, y_test)\n",
    "            print('[{}回] 正解率: {} 適合率: {} 再現率: {} F1スコア: {}'.format(i + 1, acc, pre, rec, f1))\n",
    "            hist['acc'].append(acc)\n",
    "            hist['pre'].append(pre)\n",
    "            hist['rec'].append(rec)\n",
    "            hist['f1'].append(f1)\n",
    "        return [np.mean(hist['acc']), np.mean(hist['pre']), np.mean(hist['rec']), np.mean(hist['f1'])]\n",
    "\n",
    "\n"
   ]
  },
  {
   "cell_type": "code",
   "execution_count": 10,
   "metadata": {
    "collapsed": false
   },
   "outputs": [
    {
     "name": "stdout",
     "output_type": "stream",
     "text": [
      "極性ラベル: +1 予測確率: 0.5114190379288389\n"
     ]
    }
   ],
   "source": [
    "results, probas = Predictor.predict_proba(['These answers both give equivalent results'])\n",
    "for result, proba in zip(results, probas):\n",
    "    p = proba[0] if result == '+1' else proba[1]\n",
    "    print('極性ラベル: {} 予測確率: {}'.format(result, p))"
   ]
  },
  {
   "cell_type": "markdown",
   "metadata": {},
   "source": [
    "# 75. 素性の重み\n",
    "73で学習したロジスティック回帰モデルの中で，重みの高い素性トップ10と，重みの低い素性トップ10を確認せよ"
   ]
  },
  {
   "cell_type": "code",
   "execution_count": 11,
   "metadata": {
    "collapsed": false
   },
   "outputs": [
    {
     "name": "stdout",
     "output_type": "stream",
     "text": [
      "重みの高い素性TOP10 ['perform', 'beauti', 'best', 'entertain', 'love', 'heart', 'human', 'enjoy', 'power', 'funni']\n",
      "重みの低い素性TOP10 ['bad', 'bore', 'dull', 'lack', 'just', 'thing', 'script', 'plot', 'noth', 'like']\n"
     ]
    }
   ],
   "source": [
    "lowest, heighest = Trainer.lowest_highest_features()\n",
    "\n",
    "print('重みの高い素性TOP10', heighest)\n",
    "print('重みの低い素性TOP10', lowest)"
   ]
  },
  {
   "cell_type": "markdown",
   "metadata": {},
   "source": [
    "# 76. ラベル付け\n",
    "学習データに対してロジスティック回帰モデルを適用し，正解のラベル，予測されたラベル，予測確率をタブ区切り形式で出力せよ"
   ]
  },
  {
   "cell_type": "code",
   "execution_count": 12,
   "metadata": {
    "collapsed": false
   },
   "outputs": [
    {
     "name": "stdout",
     "output_type": "stream",
     "text": [
      "+1\t+1\t0.5833648786271091\n",
      "+1\t-1\t0.5273026546875945\n",
      "+1\t-1\t0.5288866733191533\n",
      "-1\t-1\t0.5531439883465519\n",
      "+1\t+1\t0.6356878774325798\n",
      "+1\t+1\t0.6968564378837094\n",
      "+1\t-1\t0.6037136749003038\n",
      "-1\t+1\t0.5418257748795294\n",
      "+1\t+1\t0.5086974449396764\n",
      "+1\t+1\t0.5323584943552213\n"
     ]
    }
   ],
   "source": [
    "# 最初の10件のみ\n",
    "results, probas = Predictor.predict_proba_by_dense(X)\n",
    "\n",
    "i = 0\n",
    "for result, proba, correct in zip(results, probas, y):\n",
    "    if i >= 10:\n",
    "        break\n",
    "    p = proba[0] if result == '+1' else proba[1]\n",
    "    print('{}\\t{}\\t{}'.format(correct, result, p))\n",
    "    i += 1"
   ]
  },
  {
   "cell_type": "markdown",
   "metadata": {},
   "source": [
    "# 77. 正解率の計測\n",
    "76の出力を受け取り，予測の正解率，正例に関する適合率，再現率，F1スコアを求めるプログラムを作成せよ．"
   ]
  },
  {
   "cell_type": "code",
   "execution_count": 13,
   "metadata": {
    "collapsed": false
   },
   "outputs": [
    {
     "name": "stdout",
     "output_type": "stream",
     "text": [
      "正解率: 0.7459200900393922 適合率: 0.7474518686296716 再現率: 0.7428249859313449 F1スコア: 0.7451312447078747\n"
     ]
    }
   ],
   "source": [
    "acc, pre, rec, f1 = Predictor.f1_score(results, y)\n",
    "print('正解率: {} 適合率: {} 再現率: {} F1スコア: {}'.format(acc, pre, rec, f1))"
   ]
  },
  {
   "cell_type": "markdown",
   "metadata": {},
   "source": [
    "# 78. 5分割交差検定\n",
    "76-77の実験では，学習に用いた事例を評価にも用いたため，正当な評価とは言えない．すなわち，分類器が訓練事例を丸暗記する際の性能を評価しており，モデルの汎化性能を測定していない．そこで，5分割交差検定により，極性分類の正解率，適合率，再現率，F1スコアを求めよ．"
   ]
  },
  {
   "cell_type": "code",
   "execution_count": 14,
   "metadata": {
    "collapsed": false
   },
   "outputs": [
    {
     "name": "stdout",
     "output_type": "stream",
     "text": [
      "[1回] 正解率: 0.7468354430379747 適合率: 0.7396335583413693 再現率: 0.7396335583413693 F1スコア: 0.7396335583413692\n",
      "[2回] 正解率: 0.7604313173933427 適合率: 0.773602199816682 再現率: 0.7617328519855595 F1スコア: 0.7676216462028195\n",
      "[3回] 正解率: 0.7585560243788092 適合率: 0.7591170825335892 再現率: 0.7497630331753554 F1スコア: 0.7544110634239389\n",
      "[4回] 正解率: 0.7454289732770746 適合率: 0.7613526570048309 再現率: 0.7269372693726938 F1スコア: 0.7437470504955167\n",
      "[5回] 正解率: 0.7463666197843413 適合率: 0.7566287878787878 再現率: 0.7377654662973222 F1スコア: 0.7470780738662925\n",
      "[平均] 正解率: 0.7515236755743084 適合率: 0.7580668571150518 再現率: 0.7431664358344601 F1スコア: 0.7504982784659873\n"
     ]
    }
   ],
   "source": [
    "acc, pre, rec, f1 = Predictor.cross_validation(X, y)\n",
    "print('[平均] 正解率: {} 適合率: {} 再現率: {} F1スコア: {}'.format(acc, pre, rec, f1))"
   ]
  },
  {
   "cell_type": "markdown",
   "metadata": {},
   "source": [
    "# 79. 適合率-再現率グラフの描画\n",
    "ロジスティック回帰モデルの分類の閾値を変化させることで，適合率-再現率グラフを描画せよ．"
   ]
  },
  {
   "cell_type": "code",
   "execution_count": 18,
   "metadata": {
    "collapsed": false
   },
   "outputs": [
    {
     "data": {
      "image/png": "[encoded data removed]",
      "text/plain": [
       "<matplotlib.figure.Figure at 0x1157f6048>"
      ]
     },
     "metadata": {},
     "output_type": "display_data"
    }
   ],
   "source": [
    "%matplotlib inline\n",
    "Util.plot_precision_recall_curve(X, y)"
   ]
  },
  {
   "cell_type": "markdown",
   "metadata": {},
   "source": [
    "## 補足 learning curve / validation curve"
   ]
  },
  {
   "cell_type": "code",
   "execution_count": 19,
   "metadata": {
    "collapsed": false
   },
   "outputs": [
    {
     "data": {
      "image/png": "[encoded data removed]",
      "text/plain": [
       "<matplotlib.figure.Figure at 0x115931d30>"
      ]
     },
     "metadata": {},
     "output_type": "display_data"
    }
   ],
   "source": [
    "# learning curve\n",
    "%matplotlib inline\n",
    "Util.plot_learning_curve(X, y)"
   ]
  },
  {
   "cell_type": "code",
   "execution_count": 20,
   "metadata": {
    "collapsed": false
   },
   "outputs": [
    {
     "data": {
      "image/png": "[encoded data removed]",
      "text/plain": [
       "<matplotlib.figure.Figure at 0x11a0bccf8>"
      ]
     },
     "metadata": {},
     "output_type": "display_data"
    }
   ],
   "source": [
    "# validation curve\n",
    "from sklearn.learning_curve import validation_curve\n",
    "from sklearn.cross_validation import train_test_split\n",
    "\n",
    "Util.plot_validation_curve(X, y)"
   ]
  }
 ],
 "metadata": {
  "kernelspec": {
   "display_name": "Python 3",
   "language": "python",
   "name": "python3"
  },
  "language_info": {
   "codemirror_mode": {
    "name": "ipython",
    "version": 3
   },
   "file_extension": ".py",
   "mimetype": "text/x-python",
   "name": "python",
   "nbconvert_exporter": "python",
   "pygments_lexer": "ipython3",
   "version": "3.5.2"
  }
 },
 "nbformat": 4,
 "nbformat_minor": 0
}
