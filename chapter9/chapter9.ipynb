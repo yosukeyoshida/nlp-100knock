{
 "cells": [
  {
   "cell_type": "markdown",
   "metadata": {
    "collapsed": true
   },
   "source": [
    "# 80. コーパスの整形\n",
    "文を単語列に変換する最も単純な方法は，空白文字で単語に区切ることである． ただ，この方法では文末のピリオドや括弧などの記号が単語に含まれてしまう． そこで，コーパスの各行のテキストを空白文字でトークンのリストに分割した後，各トークンに以下の処理を施し，単語から記号を除去せよ．\n",
    "\n",
    "* トークンの先頭と末尾に出現する次の文字を削除: .,!?;:()[]'\"\n",
    "* 空文字列となったトークンは削除\n",
    "\n",
    "\n",
    "以上の処理を適用した後，トークンをスペースで連結してファイルに保存せよ．"
   ]
  },
  {
   "cell_type": "code",
   "execution_count": 3,
   "metadata": {
    "collapsed": false
   },
   "outputs": [],
   "source": [
    "import bz2\n",
    "\n",
    "with bz2.open('enwiki-20150112-400-r10-105752.txt.bz2', 'rt') as f, open('words.txt', 'w') as of:\n",
    "    for line in f:\n",
    "        words = line.rstrip().split(' ')\n",
    "        words = [word.strip('.,!?;:()[]\\'\"') for word in words]\n",
    "        output_line = ' '.join([word for word in words if len(word) > 0])\n",
    "        of.write(output_line + '\\n')"
   ]
  },
  {
   "cell_type": "markdown",
   "metadata": {
    "collapsed": false
   },
   "source": [
    "# 81. 複合語からなる国名への対処\n",
    "英語では，複数の語の連接が意味を成すことがある．例えば，アメリカ合衆国は\"United States\"，イギリスは\"United Kingdom\"と表現されるが，\"United\"や\"States\"，\"Kingdom\"という単語だけでは，指し示している概念・実体が曖昧である．そこで，コーパス中に含まれる複合語を認識し，複合語を1語として扱うことで，複合語の意味を推定したい．しかしながら，複合語を正確に認定するのは大変むずかしいので，ここでは複合語からなる国名を認定したい．\n",
    "\n",
    "インターネット上から国名リストを各自で入手し，80のコーパス中に出現する複合語の国名に関して，スペースをアンダーバーに置換せよ．例えば，\"United States\"は\"United_States\"，\"Isle of Man\"は\"Isle_of_Man\"になるはずである．"
   ]
  },
  {
   "cell_type": "code",
   "execution_count": 211,
   "metadata": {
    "collapsed": false
   },
   "outputs": [
    {
     "data": {
      "text/html": [
       "<div>\n",
       "<table border=\"1\" class=\"dataframe\">\n",
       "  <thead>\n",
       "    <tr style=\"text-align: right;\">\n",
       "      <th></th>\n",
       "      <th>Name</th>\n",
       "      <th>FirstName</th>\n",
       "      <th>WordCount</th>\n",
       "    </tr>\n",
       "  </thead>\n",
       "  <tbody>\n",
       "    <tr>\n",
       "      <th>75</th>\n",
       "      <td>United Kingdom</td>\n",
       "      <td>United</td>\n",
       "      <td>2</td>\n",
       "    </tr>\n",
       "    <tr>\n",
       "      <th>229</th>\n",
       "      <td>United States</td>\n",
       "      <td>United</td>\n",
       "      <td>2</td>\n",
       "    </tr>\n",
       "    <tr>\n",
       "      <th>232</th>\n",
       "      <td>Vatican City</td>\n",
       "      <td>Vatican</td>\n",
       "      <td>2</td>\n",
       "    </tr>\n",
       "    <tr>\n",
       "      <th>239</th>\n",
       "      <td>Wallis and Futuna</td>\n",
       "      <td>Wallis</td>\n",
       "      <td>3</td>\n",
       "    </tr>\n",
       "    <tr>\n",
       "      <th>63</th>\n",
       "      <td>Western Sahara</td>\n",
       "      <td>Western</td>\n",
       "      <td>2</td>\n",
       "    </tr>\n",
       "  </tbody>\n",
       "</table>\n",
       "</div>"
      ],
      "text/plain": [
       "                  Name FirstName  WordCount\n",
       "75      United Kingdom    United          2\n",
       "229      United States    United          2\n",
       "232       Vatican City   Vatican          2\n",
       "239  Wallis and Futuna    Wallis          3\n",
       "63      Western Sahara   Western          2"
      ]
     },
     "execution_count": 211,
     "metadata": {},
     "output_type": "execute_result"
    }
   ],
   "source": [
    "import pandas as pd\n",
    "# https://developers.google.com/public-data/docs/canonical/countries_csv\n",
    "country_names = [name.rstrip() for name in open ('countries.txt').readlines()]\n",
    "\n",
    "df = pd.DataFrame(country_names, columns=['Name'])\n",
    "df = df.sort_values(by='Name')\n",
    "df['FirstName'] = [name.split(' ')[0] for name in df['Name'].values]\n",
    "df['WordCount'] = [len(name.split(' ')) for name in df['Name'].values]\n",
    "df = df[df['WordCount'] > 1]\n",
    "df.tail()"
   ]
  },
  {
   "cell_type": "code",
   "execution_count": 386,
   "metadata": {
    "collapsed": false
   },
   "outputs": [],
   "source": [
    "import re\n",
    "\n",
    "dic = {}\n",
    "for i in range(0, df.shape[0]):\n",
    "    key = df.iloc[i, 1]\n",
    "    val = list(df.iloc[i, [0, 2]])\n",
    "    val = df.iloc[i, 0]\n",
    "    if key not in dic:\n",
    "        dic[key] = []\n",
    "    dic[key].append(val)\n",
    "\n",
    "for k, v in dic.items():\n",
    "    dic[k] = sorted(v, key=lambda x: len(x), reverse=True)\n",
    "\n",
    "with open('words.txt') as f, open('words2.txt', 'w') as f2:\n",
    "    for line in f:\n",
    "        line = line.rstrip()\n",
    "        \n",
    "        for first_name, names in dic.items():\n",
    "            if re.search(first_name, line) is not None:\n",
    "                for name in names:\n",
    "                    if re.search(name, line) is not None:\n",
    "                        joined_name = name.replace(' ', '_')\n",
    "                        line = line.replace(name, joined_name)\n",
    "        f2.write(line + '\\n')"
   ]
  }
 ],
 "metadata": {
  "kernelspec": {
   "display_name": "Python 3",
   "language": "python",
   "name": "python3"
  },
  "language_info": {
   "codemirror_mode": {
    "name": "ipython",
    "version": 3
   },
   "file_extension": ".py",
   "mimetype": "text/x-python",
   "name": "python",
   "nbconvert_exporter": "python",
   "pygments_lexer": "ipython3",
   "version": "3.5.2"
  }
 },
 "nbformat": 4,
 "nbformat_minor": 0
}
