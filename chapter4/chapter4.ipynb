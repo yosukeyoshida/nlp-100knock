{
 "cells": [
  {
   "cell_type": "markdown",
   "metadata": {
    "collapsed": true
   },
   "source": [
    "# 第4章: 形態素解析\n",
    "夏目漱石の小説『吾輩は猫である』の文章（neko.txt）をMeCabを使って形態素解析し，その結果をneko.txt.mecabというファイルに保存せよ．このファイルを用いて，以下の問に対応するプログラムを実装せよ．\n",
    "\n",
    "なお，問題37, 38, 39はmatplotlibもしくはGnuplotを用いるとよい．"
   ]
  },
  {
   "cell_type": "code",
   "execution_count": 10,
   "metadata": {
    "collapsed": false
   },
   "outputs": [],
   "source": [
    "import MeCab\n",
    "\n",
    "def parse():\n",
    "    mecab = MeCab.Tagger()\n",
    "    text = open('neko.txt').read()\n",
    "    return mecab.parse(text)\n",
    "\n",
    "with open('neko.txt.mecab', 'w') as f:\n",
    "    f.write(parse())"
   ]
  },
  {
   "cell_type": "markdown",
   "metadata": {},
   "source": [
    "## 30. 形態素解析結果の読み込み\n",
    "形態素解析結果（neko.txt.mecab）を読み込むプログラムを実装せよ．ただし，各形態素は表層形（surface），基本形（base），品詞（pos），品詞細分類1（pos1）をキーとするマッピング型に格納し，1文を形態素（マッピング型）のリストとして表現せよ．第4章の残りの問題では，ここで作ったプログラムを活用せよ．"
   ]
  },
  {
   "cell_type": "code",
   "execution_count": 2,
   "metadata": {
    "collapsed": false
   },
   "outputs": [
    {
     "name": "stdout",
     "output_type": "stream",
     "text": [
      "[{'surface': '一', 'pos': '名詞', 'pos1': '数', 'base': '一'}, {'surface': '\\u3000', 'pos': '記号', 'pos1': '空白', 'base': '\\u3000'}, {'surface': '吾輩', 'pos': '名詞', 'pos1': '代名詞', 'base': '吾輩'}, {'surface': 'は', 'pos': '助詞', 'pos1': '係助詞', 'base': 'は'}, {'surface': '猫', 'pos': '名詞', 'pos1': '一般', 'base': '猫'}, {'surface': 'で', 'pos': '助動詞', 'pos1': '*', 'base': 'だ'}, {'surface': 'ある', 'pos': '助動詞', 'pos1': '*', 'base': 'ある'}, {'surface': '。', 'pos': '記号', 'pos1': '句点', 'base': '。'}]\n",
      "\n",
      "\n",
      "[{'surface': '名前', 'pos': '名詞', 'pos1': '一般', 'base': '名前'}, {'surface': 'は', 'pos': '助詞', 'pos1': '係助詞', 'base': 'は'}, {'surface': 'まだ', 'pos': '副詞', 'pos1': '助詞類接続', 'base': 'まだ'}, {'surface': '無い', 'pos': '形容詞', 'pos1': '自立', 'base': '無い'}, {'surface': '。', 'pos': '記号', 'pos1': '句点', 'base': '。'}]\n",
      "\n",
      "\n",
      "[{'surface': '\\u3000', 'pos': '記号', 'pos1': '空白', 'base': '\\u3000'}, {'surface': 'どこ', 'pos': '名詞', 'pos1': '代名詞', 'base': 'どこ'}, {'surface': 'で', 'pos': '助詞', 'pos1': '格助詞', 'base': 'で'}, {'surface': '生れ', 'pos': '動詞', 'pos1': '自立', 'base': '生れる'}, {'surface': 'た', 'pos': '助動詞', 'pos1': '*', 'base': 'た'}, {'surface': 'か', 'pos': '助詞', 'pos1': '副助詞／並立助詞／終助詞', 'base': 'か'}, {'surface': 'とんと', 'pos': '副詞', 'pos1': '一般', 'base': 'とんと'}, {'surface': '見当', 'pos': '名詞', 'pos1': 'サ変接続', 'base': '見当'}, {'surface': 'が', 'pos': '助詞', 'pos1': '格助詞', 'base': 'が'}, {'surface': 'つか', 'pos': '動詞', 'pos1': '自立', 'base': 'つく'}, {'surface': 'ぬ', 'pos': '助動詞', 'pos1': '*', 'base': 'ぬ'}, {'surface': '。', 'pos': '記号', 'pos1': '句点', 'base': '。'}]\n",
      "\n",
      "\n"
     ]
    }
   ],
   "source": [
    "def mecab_result_reader():\n",
    "    sentence = []\n",
    "    with open('neko.txt.mecab') as f:\n",
    "        for line in f:\n",
    "            line = line.rstrip()\n",
    "            if line == 'EOS':\n",
    "                if len(sentence) > 0:\n",
    "                    yield sentence\n",
    "                raise StopIteration\n",
    "            surface, others = line.split('\\t')\n",
    "            others = others.split(',')\n",
    "            sentence.append({'surface': surface, 'base': others[6], 'pos': others[0], 'pos1': others[1]})\n",
    "            if surface == '。':\n",
    "                yield sentence\n",
    "                sentence = []\n",
    "\n",
    "# 最初の3個のみ表示\n",
    "for i, s in enumerate(mecab_result_reader()):\n",
    "    if i > 2:\n",
    "        break\n",
    "    print(s)\n",
    "    print('\\n')"
   ]
  },
  {
   "cell_type": "markdown",
   "metadata": {
    "collapsed": false
   },
   "source": [
    "## 31. 動詞\n",
    "動詞の表層形をすべて抽出せよ．"
   ]
  },
  {
   "cell_type": "code",
   "execution_count": 82,
   "metadata": {
    "collapsed": false
   },
   "outputs": [
    {
     "name": "stdout",
     "output_type": "stream",
     "text": [
      "生れ\n",
      "つか\n",
      "し\n",
      "泣い\n",
      "し\n",
      "いる\n",
      "始め\n",
      "見\n",
      "聞く\n",
      "捕え\n"
     ]
    }
   ],
   "source": [
    "# 最初の10個のみ表示\n",
    "total = 0\n",
    "for i, s in enumerate(mecab_result_reader()):\n",
    "    if total >= 10:\n",
    "        break\n",
    "    for t in s:\n",
    "        if total >= 10:\n",
    "            break\n",
    "        if t['pos'] == '動詞':\n",
    "            print(t['surface'])\n",
    "            total += 1"
   ]
  },
  {
   "cell_type": "markdown",
   "metadata": {
    "collapsed": true
   },
   "source": [
    "## 32. 動詞の原形\n",
    "動詞の原形をすべて抽出せよ．"
   ]
  },
  {
   "cell_type": "code",
   "execution_count": 79,
   "metadata": {
    "collapsed": false
   },
   "outputs": [
    {
     "name": "stdout",
     "output_type": "stream",
     "text": [
      "生れる\n",
      "つく\n",
      "する\n",
      "泣く\n",
      "する\n",
      "いる\n",
      "始める\n",
      "見る\n",
      "聞く\n",
      "捕える\n",
      "煮る\n",
      "食う\n"
     ]
    }
   ],
   "source": [
    "# 最初の10個のみ表示\n",
    "total = 0\n",
    "for i, s in enumerate(mecab_result_reader()):\n",
    "    if total >= 10:\n",
    "        break\n",
    "    for t in s:\n",
    "        if t['pos'] == '動詞':\n",
    "            print(t['base'])\n",
    "            total += 1"
   ]
  },
  {
   "cell_type": "markdown",
   "metadata": {},
   "source": [
    "## 33. サ変名詞\n",
    "サ変接続の名詞をすべて抽出せよ．"
   ]
  },
  {
   "cell_type": "code",
   "execution_count": 78,
   "metadata": {
    "collapsed": false
   },
   "outputs": [
    {
     "name": "stdout",
     "output_type": "stream",
     "text": [
      "見当\n",
      "記憶\n",
      "話\n",
      "装飾\n",
      "突起\n",
      "運転\n",
      "記憶\n",
      "分別\n",
      "決心\n",
      "我慢\n"
     ]
    }
   ],
   "source": [
    "# 最初の10個のみ表示\n",
    "total = 0\n",
    "for i, s in enumerate(mecab_result_reader()):\n",
    "    if total >= 10:\n",
    "        break\n",
    "    for t in s:\n",
    "        if t['pos'] == '名詞' and t['pos1'] == 'サ変接続':\n",
    "            print(t['surface'])\n",
    "            total += 1"
   ]
  },
  {
   "cell_type": "markdown",
   "metadata": {},
   "source": [
    "## 34. 「AのB」\n",
    "2つの名詞が「の」で連結されている名詞句を抽出せよ．"
   ]
  },
  {
   "cell_type": "code",
   "execution_count": 103,
   "metadata": {
    "collapsed": false
   },
   "outputs": [
    {
     "name": "stdout",
     "output_type": "stream",
     "text": [
      "彼の掌\n",
      "掌の上\n",
      "書生の顔\n",
      "はずの顔\n",
      "顔の真中\n",
      "穴の中\n",
      "書生の掌\n",
      "掌の裏\n",
      "何の事\n",
      "肝心の母親\n"
     ]
    }
   ],
   "source": [
    "# 最初の10個のみ表示\n",
    "total = 0\n",
    "for s in mecab_result_reader():\n",
    "    if total >= 10:\n",
    "        break\n",
    "    indexes = [i for i, t in enumerate(s) if t['surface'] == 'の']\n",
    "    for idx in indexes:\n",
    "        if idx == 0 | idx == len(s) - 1:\n",
    "            break\n",
    "        if s[idx-1]['pos'] == '名詞' and s[idx+1]['pos'] == '名詞':\n",
    "            print(s[idx-1]['surface'] + s[idx]['surface'] + s[idx+1]['surface'])\n",
    "            total += 1"
   ]
  },
  {
   "cell_type": "markdown",
   "metadata": {},
   "source": [
    "## 35. 名詞の連接\n",
    "名詞の連接（連続して出現する名詞）を最長一致で抽出せよ．"
   ]
  },
  {
   "cell_type": "code",
   "execution_count": 104,
   "metadata": {
    "collapsed": false
   },
   "outputs": [
    {
     "name": "stdout",
     "output_type": "stream",
     "text": [
      "人間中\n",
      "一番獰悪\n",
      "時妙\n",
      "一毛\n",
      "その後猫\n",
      "ぷうぷうと煙\n",
      "邸内\n",
      "三毛\n",
      "書生以外\n",
      "四五遍\n"
     ]
    }
   ],
   "source": [
    "# 最初の10個のみ表示\n",
    "total = 0\n",
    "for s in mecab_result_reader():\n",
    "    if total >= 10:\n",
    "        break\n",
    "    nouns = []\n",
    "    for t in s:\n",
    "        if t['pos'] == '名詞':\n",
    "            nouns.append(t['surface'])\n",
    "        else:\n",
    "            if len(nouns) >=2:\n",
    "                print(''.join(nouns))\n",
    "                total += 1\n",
    "            nouns = []    "
   ]
  },
  {
   "cell_type": "markdown",
   "metadata": {},
   "source": [
    "## 36. 単語の出現頻度\n",
    "文章中に出現する単語とその出現頻度を求め，出現頻度の高い順に並べよ．"
   ]
  },
  {
   "cell_type": "code",
   "execution_count": 107,
   "metadata": {
    "collapsed": false
   },
   "outputs": [
    {
     "data": {
      "text/plain": [
       "[('の', 9195),\n",
       " ('。', 7486),\n",
       " ('て', 6873),\n",
       " ('、', 6772),\n",
       " ('は', 6422),\n",
       " ('に', 6270),\n",
       " ('を', 6071),\n",
       " ('と', 5515),\n",
       " ('が', 5339),\n",
       " ('た', 3989)]"
      ]
     },
     "execution_count": 107,
     "metadata": {},
     "output_type": "execute_result"
    }
   ],
   "source": [
    "dic = {}\n",
    "for s in mecab_result_reader():\n",
    "    for t in s:\n",
    "        w = t['surface']\n",
    "        if w in dic:\n",
    "            dic[w] += 1\n",
    "        else:\n",
    "            dic[w] = 1\n",
    "# 最初の10個のみ表示\n",
    "sorted(dic.items(), key=lambda x: x[1], reverse=True)[:10]"
   ]
  },
  {
   "cell_type": "markdown",
   "metadata": {},
   "source": [
    "## 37. 頻度上位10語\n",
    "出現頻度が高い10語とその出現頻度をグラフ（例えば棒グラフなど）で表示せよ．"
   ]
  },
  {
   "cell_type": "code",
   "execution_count": 144,
   "metadata": {
    "collapsed": true
   },
   "outputs": [],
   "source": [
    "import matplotlib.pyplot as plt\n",
    "%matplotlib inline\n",
    "font = {'family': 'IPAexGothic'}\n",
    "plt.rc('font', **font)\n",
    "plt.rc('figure', figsize=(12, 8))"
   ]
  },
  {
   "cell_type": "code",
   "execution_count": 145,
   "metadata": {
    "collapsed": false
   },
   "outputs": [
    {
     "data": {
      "image/png": "[encoded data removed]",
      "text/plain": [
       "<matplotlib.figure.Figure at 0x1175ec198>"
      ]
     },
     "metadata": {},
     "output_type": "display_data"
    }
   ],
   "source": [
    "dic = {}\n",
    "for s in mecab_result_reader():\n",
    "    for t in s:\n",
    "        w = t['surface']\n",
    "        if w in dic:\n",
    "            dic[w] += 1\n",
    "        else:\n",
    "            dic[w] = 1\n",
    "top10 = sorted(dic.items(), key=lambda x: x[1], reverse=True)[:10]\n",
    "\n",
    "label = [wc[0] for wc in top10]\n",
    "height = [wc[1] for wc in top10]\n",
    "left = list(range(1, 11))\n",
    "\n",
    "plt.bar(left=left, height=height, align=\"center\")\n",
    "plt.title('出現頻度が高い10語')\n",
    "plt.ylabel('出現頻度')\n",
    "_ = plt.xticks (left, label)"
   ]
  },
  {
   "cell_type": "markdown",
   "metadata": {
    "collapsed": false
   },
   "source": [
    "## 38. ヒストグラム\n",
    "単語の出現頻度のヒストグラム（横軸に出現頻度，縦軸に出現頻度をとる単語の種類数を棒グラフで表したもの）を描け．"
   ]
  },
  {
   "cell_type": "code",
   "execution_count": 147,
   "metadata": {
    "collapsed": false
   },
   "outputs": [
    {
     "data": {
      "image/png": "[encoded data removed]",
      "text/plain": [
       "<matplotlib.figure.Figure at 0x115d231d0>"
      ]
     },
     "metadata": {},
     "output_type": "display_data"
    }
   ],
   "source": [
    "dic = {}\n",
    "for s in mecab_result_reader():\n",
    "    for t in s:\n",
    "        w = t['surface']\n",
    "        if w in dic:\n",
    "            dic[w] += 1\n",
    "        else:\n",
    "            dic[w] = 1\n",
    "\n",
    "freqs = list(dic.values())\n",
    "plt.hist(freqs, bins=30, range=(1,30))\n",
    "_ = plt.xlim(1, 30)"
   ]
  },
  {
   "cell_type": "markdown",
   "metadata": {},
   "source": [
    "## 39. Zipfの法則\n",
    "単語の出現頻度順位を横軸，その出現頻度を縦軸として，両対数グラフをプロットせよ．"
   ]
  },
  {
   "cell_type": "code",
   "execution_count": 149,
   "metadata": {
    "collapsed": false
   },
   "outputs": [
    {
     "data": {
      "image/png": "[encoded data removed]",
      "text/plain": [
       "<matplotlib.figure.Figure at 0x115cc70f0>"
      ]
     },
     "metadata": {},
     "output_type": "display_data"
    }
   ],
   "source": [
    "dic = {}\n",
    "for s in mecab_result_reader():\n",
    "    for t in s:\n",
    "        w = t['surface']\n",
    "        if w in dic:\n",
    "            dic[w] += 1\n",
    "        else:\n",
    "            dic[w] = 1\n",
    "freqs = [t[1] for t in sorted(dic.items(), key=lambda x: x[1], reverse=True)]\n",
    "plt.scatter(freqs, list(range(1,len(freqs)+1)))\n",
    "plt.xlim(1, len(freqs)+1)\n",
    "plt.xscale('log')\n",
    "plt.yscale('log')"
   ]
  }
 ],
 "metadata": {
  "kernelspec": {
   "display_name": "Python 3",
   "language": "python",
   "name": "python3"
  },
  "language_info": {
   "codemirror_mode": {
    "name": "ipython",
    "version": 3
   },
   "file_extension": ".py",
   "mimetype": "text/x-python",
   "name": "python",
   "nbconvert_exporter": "python",
   "pygments_lexer": "ipython3",
   "version": "3.5.2"
  }
 },
 "nbformat": 4,
 "nbformat_minor": 0
}
